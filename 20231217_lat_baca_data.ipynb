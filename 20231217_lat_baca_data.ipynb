{
  "nbformat": 4,
  "nbformat_minor": 0,
  "metadata": {
    "colab": {
      "provenance": [],
      "mount_file_id": "1TJUz3NmxYiQXLiP7Er2ffhuT4ILOvvH9",
      "authorship_tag": "ABX9TyOxE/vfsAhISYcXJWuPwb8w",
      "include_colab_link": true
    },
    "kernelspec": {
      "name": "python3",
      "display_name": "Python 3"
    },
    "language_info": {
      "name": "python"
    }
  },
  "cells": [
    {
      "cell_type": "markdown",
      "metadata": {
        "id": "view-in-github",
        "colab_type": "text"
      },
      "source": [
        "<a href=\"https://colab.research.google.com/github/sasongko8888/NGOBAR/blob/master/20231217_lat_baca_data.ipynb\" target=\"_parent\"><img src=\"https://colab.research.google.com/assets/colab-badge.svg\" alt=\"Open In Colab\"/></a>"
      ]
    },
    {
      "cell_type": "code",
      "execution_count": 1,
      "metadata": {
        "colab": {
          "base_uri": "https://localhost:8080/"
        },
        "id": "WCtAZFuSHojD",
        "outputId": "b1e75fcc-ab76-4ece-a5fe-194cefe7cbf4"
      },
      "outputs": [
        {
          "output_type": "stream",
          "name": "stdout",
          "text": [
            "Menampilkan beberapa baris pertama data:\n",
            "  Timestamp (ICT);Network;Connected Profile;Received From (Network Name);Native Permalink;Permalink;Message;Sentiment\n",
            "0  11/24/2023 11:11;Twitter;pertamaxseries;AnggaK...                                                                 \n",
            "1  11/23/2023 18:57;Twitter;pertamaxseries;hirawk...                                                                 \n",
            "2  11/23/2023 18:41;Twitter;pertamaxseries;hisagi...                                                                 \n",
            "3  11/23/2023 18:38;Twitter;pertamaxseries;aizenw...                                                                 \n",
            "4  11/23/2023 18:34;Twitter;pertamaxseries;ichiwb...                                                                 \n",
            "\n",
            "Menampilkan beberapa baris terakhir data:\n",
            "     Timestamp (ICT);Network;Connected Profile;Received From (Network Name);Native Permalink;Permalink;Message;Sentiment\n",
            "5533                                            ;;;;;;;                                                                 \n",
            "5534                                            ;;;;;;;                                                                 \n",
            "5535                                            ;;;;;;;                                                                 \n",
            "5536                                            ;;;;;;;                                                                 \n",
            "5537                                            ;;;;;;;                                                                 \n",
            "\n",
            "Informasi tentang dataset:\n",
            "<class 'pandas.core.frame.DataFrame'>\n",
            "RangeIndex: 5538 entries, 0 to 5537\n",
            "Data columns (total 1 columns):\n",
            " #   Column                                                                                                               Non-Null Count  Dtype \n",
            "---  ------                                                                                                               --------------  ----- \n",
            " 0   Timestamp (ICT);Network;Connected Profile;Received From (Network Name);Native Permalink;Permalink;Message;Sentiment  5538 non-null   object\n",
            "dtypes: object(1)\n",
            "memory usage: 43.4+ KB\n",
            "None\n",
            "\n",
            "Statistik deskriptif:\n",
            "       Timestamp (ICT);Network;Connected Profile;Received From (Network Name);Native Permalink;Permalink;Message;Sentiment\n",
            "count                                                5538                                                                 \n",
            "unique                                               3867                                                                 \n",
            "top                                               ;;;;;;;                                                                 \n",
            "freq                                                 1000                                                                 \n"
          ]
        }
      ],
      "source": [
        "import pandas as pd\n",
        "\n",
        "# Membaca dataset (ganti 'nama_dataset.csv' dengan nama file dataset yang sesuai)\n",
        "data = pd.read_csv('/content/TWITTER 2023 Sentiment negativeCSV.csv',encoding='ISO-8859-1',on_bad_lines='skip')\n",
        "\n",
        "# Menampilkan beberapa baris pertama data\n",
        "print(\"Menampilkan beberapa baris pertama data:\")\n",
        "print(data.head())\n",
        "\n",
        "# Menampilkan beberapa baris terakhir data\n",
        "print(\"\\nMenampilkan beberapa baris terakhir data:\")\n",
        "print(data.tail())\n",
        "\n",
        "# Menampilkan informasi umum tentang dataset\n",
        "print(\"\\nInformasi tentang dataset:\")\n",
        "print(data.info())\n",
        "\n",
        "# Menampilkan statistik deskriptif dari dataset\n",
        "print(\"\\nStatistik deskriptif:\")\n",
        "print(data.describe())"
      ]
    },
    {
      "cell_type": "code",
      "source": [
        "import pandas as pd\n",
        "#import emoji\n",
        "import re\n",
        "import nltk\n",
        "from nltk.corpus import stopwords\n",
        "# import matplotlib.pyplot as plot\n",
        "import matplotlib.pyplot as plt\n",
        "import numpy as np\n",
        "#df_one = pd.read_csv('/content/TWITTER 2023 Sentiment negativeCSV.csv')\n",
        "import chardet\n",
        "\n",
        "# Mendeteksi encoding file\n",
        "with open('/content/TWITTER 2023 Sentiment negativeCSV.csv', 'rb') as f:\n",
        "    result = chardet.detect(f.read())\n",
        "\n",
        "# Menggunakan encoding yang terdeteksi\n",
        "try:\n",
        "    df_one = pd.read_csv('/content/TWITTER 2023 Sentiment negativeCSV.csv', encoding=result['encoding'])\n",
        "except UnicodeDecodeError:\n",
        "    print(\"Tidak dapat membaca file dengan encoding yang terdeteksi.\")\n",
        "df_two = pd.read_csv('datasets/Step_two.csv')\n",
        "df_three = pd.read_csv('datasets/Step_three.csv')\n",
        "\n",
        "print(df_one.info()) #29934\n",
        "# print(df_two.info()) #24702\n",
        "# print(df_three.info()) #22742"
      ],
      "metadata": {
        "id": "Go0PVDyRAwYH",
        "colab": {
          "base_uri": "https://localhost:8080/",
          "height": 321
        },
        "outputId": "e7ccbb49-dcd8-43c9-ae05-3cb2d5145d71"
      },
      "execution_count": null,
      "outputs": [
        {
          "output_type": "error",
          "ename": "ParserError",
          "evalue": "ignored",
          "traceback": [
            "\u001b[0;31m---------------------------------------------------------------------------\u001b[0m",
            "\u001b[0;31mParserError\u001b[0m                               Traceback (most recent call last)",
            "\u001b[0;32m<ipython-input-6-149f0123c3e0>\u001b[0m in \u001b[0;36m<cell line: 17>\u001b[0;34m()\u001b[0m\n\u001b[1;32m     16\u001b[0m \u001b[0;31m# Menggunakan encoding yang terdeteksi\u001b[0m\u001b[0;34m\u001b[0m\u001b[0;34m\u001b[0m\u001b[0m\n\u001b[1;32m     17\u001b[0m \u001b[0;32mtry\u001b[0m\u001b[0;34m:\u001b[0m\u001b[0;34m\u001b[0m\u001b[0;34m\u001b[0m\u001b[0m\n\u001b[0;32m---> 18\u001b[0;31m     \u001b[0mdf_one\u001b[0m \u001b[0;34m=\u001b[0m \u001b[0mpd\u001b[0m\u001b[0;34m.\u001b[0m\u001b[0mread_csv\u001b[0m\u001b[0;34m(\u001b[0m\u001b[0;34m'/content/TWITTER 2023 Sentiment negativeCSV.csv'\u001b[0m\u001b[0;34m,\u001b[0m \u001b[0mencoding\u001b[0m\u001b[0;34m=\u001b[0m\u001b[0mresult\u001b[0m\u001b[0;34m[\u001b[0m\u001b[0;34m'encoding'\u001b[0m\u001b[0;34m]\u001b[0m\u001b[0;34m)\u001b[0m\u001b[0;34m\u001b[0m\u001b[0;34m\u001b[0m\u001b[0m\n\u001b[0m\u001b[1;32m     19\u001b[0m \u001b[0;32mexcept\u001b[0m \u001b[0mUnicodeDecodeError\u001b[0m\u001b[0;34m:\u001b[0m\u001b[0;34m\u001b[0m\u001b[0;34m\u001b[0m\u001b[0m\n\u001b[1;32m     20\u001b[0m     \u001b[0mprint\u001b[0m\u001b[0;34m(\u001b[0m\u001b[0;34m\"Tidak dapat membaca file dengan encoding yang terdeteksi.\"\u001b[0m\u001b[0;34m)\u001b[0m\u001b[0;34m\u001b[0m\u001b[0;34m\u001b[0m\u001b[0m\n",
            "\u001b[0;32m/usr/local/lib/python3.10/dist-packages/pandas/util/_decorators.py\u001b[0m in \u001b[0;36mwrapper\u001b[0;34m(*args, **kwargs)\u001b[0m\n\u001b[1;32m    209\u001b[0m                 \u001b[0;32melse\u001b[0m\u001b[0;34m:\u001b[0m\u001b[0;34m\u001b[0m\u001b[0;34m\u001b[0m\u001b[0m\n\u001b[1;32m    210\u001b[0m                     \u001b[0mkwargs\u001b[0m\u001b[0;34m[\u001b[0m\u001b[0mnew_arg_name\u001b[0m\u001b[0;34m]\u001b[0m \u001b[0;34m=\u001b[0m \u001b[0mnew_arg_value\u001b[0m\u001b[0;34m\u001b[0m\u001b[0;34m\u001b[0m\u001b[0m\n\u001b[0;32m--> 211\u001b[0;31m             \u001b[0;32mreturn\u001b[0m \u001b[0mfunc\u001b[0m\u001b[0;34m(\u001b[0m\u001b[0;34m*\u001b[0m\u001b[0margs\u001b[0m\u001b[0;34m,\u001b[0m \u001b[0;34m**\u001b[0m\u001b[0mkwargs\u001b[0m\u001b[0;34m)\u001b[0m\u001b[0;34m\u001b[0m\u001b[0;34m\u001b[0m\u001b[0m\n\u001b[0m\u001b[1;32m    212\u001b[0m \u001b[0;34m\u001b[0m\u001b[0m\n\u001b[1;32m    213\u001b[0m         \u001b[0;32mreturn\u001b[0m \u001b[0mcast\u001b[0m\u001b[0;34m(\u001b[0m\u001b[0mF\u001b[0m\u001b[0;34m,\u001b[0m \u001b[0mwrapper\u001b[0m\u001b[0;34m)\u001b[0m\u001b[0;34m\u001b[0m\u001b[0;34m\u001b[0m\u001b[0m\n",
            "\u001b[0;32m/usr/local/lib/python3.10/dist-packages/pandas/util/_decorators.py\u001b[0m in \u001b[0;36mwrapper\u001b[0;34m(*args, **kwargs)\u001b[0m\n\u001b[1;32m    329\u001b[0m                     \u001b[0mstacklevel\u001b[0m\u001b[0;34m=\u001b[0m\u001b[0mfind_stack_level\u001b[0m\u001b[0;34m(\u001b[0m\u001b[0;34m)\u001b[0m\u001b[0;34m,\u001b[0m\u001b[0;34m\u001b[0m\u001b[0;34m\u001b[0m\u001b[0m\n\u001b[1;32m    330\u001b[0m                 )\n\u001b[0;32m--> 331\u001b[0;31m             \u001b[0;32mreturn\u001b[0m \u001b[0mfunc\u001b[0m\u001b[0;34m(\u001b[0m\u001b[0;34m*\u001b[0m\u001b[0margs\u001b[0m\u001b[0;34m,\u001b[0m \u001b[0;34m**\u001b[0m\u001b[0mkwargs\u001b[0m\u001b[0;34m)\u001b[0m\u001b[0;34m\u001b[0m\u001b[0;34m\u001b[0m\u001b[0m\n\u001b[0m\u001b[1;32m    332\u001b[0m \u001b[0;34m\u001b[0m\u001b[0m\n\u001b[1;32m    333\u001b[0m         \u001b[0;31m# error: \"Callable[[VarArg(Any), KwArg(Any)], Any]\" has no\u001b[0m\u001b[0;34m\u001b[0m\u001b[0;34m\u001b[0m\u001b[0m\n",
            "\u001b[0;32m/usr/local/lib/python3.10/dist-packages/pandas/io/parsers/readers.py\u001b[0m in \u001b[0;36mread_csv\u001b[0;34m(filepath_or_buffer, sep, delimiter, header, names, index_col, usecols, squeeze, prefix, mangle_dupe_cols, dtype, engine, converters, true_values, false_values, skipinitialspace, skiprows, skipfooter, nrows, na_values, keep_default_na, na_filter, verbose, skip_blank_lines, parse_dates, infer_datetime_format, keep_date_col, date_parser, dayfirst, cache_dates, iterator, chunksize, compression, thousands, decimal, lineterminator, quotechar, quoting, doublequote, escapechar, comment, encoding, encoding_errors, dialect, error_bad_lines, warn_bad_lines, on_bad_lines, delim_whitespace, low_memory, memory_map, float_precision, storage_options)\u001b[0m\n\u001b[1;32m    948\u001b[0m     \u001b[0mkwds\u001b[0m\u001b[0;34m.\u001b[0m\u001b[0mupdate\u001b[0m\u001b[0;34m(\u001b[0m\u001b[0mkwds_defaults\u001b[0m\u001b[0;34m)\u001b[0m\u001b[0;34m\u001b[0m\u001b[0;34m\u001b[0m\u001b[0m\n\u001b[1;32m    949\u001b[0m \u001b[0;34m\u001b[0m\u001b[0m\n\u001b[0;32m--> 950\u001b[0;31m     \u001b[0;32mreturn\u001b[0m \u001b[0m_read\u001b[0m\u001b[0;34m(\u001b[0m\u001b[0mfilepath_or_buffer\u001b[0m\u001b[0;34m,\u001b[0m \u001b[0mkwds\u001b[0m\u001b[0;34m)\u001b[0m\u001b[0;34m\u001b[0m\u001b[0;34m\u001b[0m\u001b[0m\n\u001b[0m\u001b[1;32m    951\u001b[0m \u001b[0;34m\u001b[0m\u001b[0m\n\u001b[1;32m    952\u001b[0m \u001b[0;34m\u001b[0m\u001b[0m\n",
            "\u001b[0;32m/usr/local/lib/python3.10/dist-packages/pandas/io/parsers/readers.py\u001b[0m in \u001b[0;36m_read\u001b[0;34m(filepath_or_buffer, kwds)\u001b[0m\n\u001b[1;32m    609\u001b[0m \u001b[0;34m\u001b[0m\u001b[0m\n\u001b[1;32m    610\u001b[0m     \u001b[0;32mwith\u001b[0m \u001b[0mparser\u001b[0m\u001b[0;34m:\u001b[0m\u001b[0;34m\u001b[0m\u001b[0;34m\u001b[0m\u001b[0m\n\u001b[0;32m--> 611\u001b[0;31m         \u001b[0;32mreturn\u001b[0m \u001b[0mparser\u001b[0m\u001b[0;34m.\u001b[0m\u001b[0mread\u001b[0m\u001b[0;34m(\u001b[0m\u001b[0mnrows\u001b[0m\u001b[0;34m)\u001b[0m\u001b[0;34m\u001b[0m\u001b[0;34m\u001b[0m\u001b[0m\n\u001b[0m\u001b[1;32m    612\u001b[0m \u001b[0;34m\u001b[0m\u001b[0m\n\u001b[1;32m    613\u001b[0m \u001b[0;34m\u001b[0m\u001b[0m\n",
            "\u001b[0;32m/usr/local/lib/python3.10/dist-packages/pandas/io/parsers/readers.py\u001b[0m in \u001b[0;36mread\u001b[0;34m(self, nrows)\u001b[0m\n\u001b[1;32m   1776\u001b[0m                     \u001b[0mcolumns\u001b[0m\u001b[0;34m,\u001b[0m\u001b[0;34m\u001b[0m\u001b[0;34m\u001b[0m\u001b[0m\n\u001b[1;32m   1777\u001b[0m                     \u001b[0mcol_dict\u001b[0m\u001b[0;34m,\u001b[0m\u001b[0;34m\u001b[0m\u001b[0;34m\u001b[0m\u001b[0m\n\u001b[0;32m-> 1778\u001b[0;31m                 \u001b[0;34m)\u001b[0m \u001b[0;34m=\u001b[0m \u001b[0mself\u001b[0m\u001b[0;34m.\u001b[0m\u001b[0m_engine\u001b[0m\u001b[0;34m.\u001b[0m\u001b[0mread\u001b[0m\u001b[0;34m(\u001b[0m  \u001b[0;31m# type: ignore[attr-defined]\u001b[0m\u001b[0;34m\u001b[0m\u001b[0;34m\u001b[0m\u001b[0m\n\u001b[0m\u001b[1;32m   1779\u001b[0m                     \u001b[0mnrows\u001b[0m\u001b[0;34m\u001b[0m\u001b[0;34m\u001b[0m\u001b[0m\n\u001b[1;32m   1780\u001b[0m                 )\n",
            "\u001b[0;32m/usr/local/lib/python3.10/dist-packages/pandas/io/parsers/c_parser_wrapper.py\u001b[0m in \u001b[0;36mread\u001b[0;34m(self, nrows)\u001b[0m\n\u001b[1;32m    228\u001b[0m         \u001b[0;32mtry\u001b[0m\u001b[0;34m:\u001b[0m\u001b[0;34m\u001b[0m\u001b[0;34m\u001b[0m\u001b[0m\n\u001b[1;32m    229\u001b[0m             \u001b[0;32mif\u001b[0m \u001b[0mself\u001b[0m\u001b[0;34m.\u001b[0m\u001b[0mlow_memory\u001b[0m\u001b[0;34m:\u001b[0m\u001b[0;34m\u001b[0m\u001b[0;34m\u001b[0m\u001b[0m\n\u001b[0;32m--> 230\u001b[0;31m                 \u001b[0mchunks\u001b[0m \u001b[0;34m=\u001b[0m \u001b[0mself\u001b[0m\u001b[0;34m.\u001b[0m\u001b[0m_reader\u001b[0m\u001b[0;34m.\u001b[0m\u001b[0mread_low_memory\u001b[0m\u001b[0;34m(\u001b[0m\u001b[0mnrows\u001b[0m\u001b[0;34m)\u001b[0m\u001b[0;34m\u001b[0m\u001b[0;34m\u001b[0m\u001b[0m\n\u001b[0m\u001b[1;32m    231\u001b[0m                 \u001b[0;31m# destructive to chunks\u001b[0m\u001b[0;34m\u001b[0m\u001b[0;34m\u001b[0m\u001b[0m\n\u001b[1;32m    232\u001b[0m                 \u001b[0mdata\u001b[0m \u001b[0;34m=\u001b[0m \u001b[0m_concatenate_chunks\u001b[0m\u001b[0;34m(\u001b[0m\u001b[0mchunks\u001b[0m\u001b[0;34m)\u001b[0m\u001b[0;34m\u001b[0m\u001b[0;34m\u001b[0m\u001b[0m\n",
            "\u001b[0;32m/usr/local/lib/python3.10/dist-packages/pandas/_libs/parsers.pyx\u001b[0m in \u001b[0;36mpandas._libs.parsers.TextReader.read_low_memory\u001b[0;34m()\u001b[0m\n",
            "\u001b[0;32m/usr/local/lib/python3.10/dist-packages/pandas/_libs/parsers.pyx\u001b[0m in \u001b[0;36mpandas._libs.parsers.TextReader._read_rows\u001b[0;34m()\u001b[0m\n",
            "\u001b[0;32m/usr/local/lib/python3.10/dist-packages/pandas/_libs/parsers.pyx\u001b[0m in \u001b[0;36mpandas._libs.parsers.TextReader._tokenize_rows\u001b[0;34m()\u001b[0m\n",
            "\u001b[0;32m/usr/local/lib/python3.10/dist-packages/pandas/_libs/parsers.pyx\u001b[0m in \u001b[0;36mpandas._libs.parsers.raise_parser_error\u001b[0;34m()\u001b[0m\n",
            "\u001b[0;31mParserError\u001b[0m: Error tokenizing data. C error: Expected 1 fields in line 11, saw 2\n"
          ]
        }
      ]
    },
    {
      "cell_type": "code",
      "source": [],
      "metadata": {
        "id": "HDvHdkj0Aw4g"
      },
      "execution_count": null,
      "outputs": []
    },
    {
      "cell_type": "code",
      "source": [],
      "metadata": {
        "id": "CcoUAkQcmQVp"
      },
      "execution_count": null,
      "outputs": []
    },
    {
      "cell_type": "markdown",
      "source": [
        "# New Section"
      ],
      "metadata": {
        "id": "2-iQYsfczWQf"
      }
    },
    {
      "cell_type": "code",
      "source": [
        "import pandas as pd\n",
        "\n",
        "# Membaca dataset (ganti 'nama_dataset.csv' dengan nama file dataset yang sesuai)\n",
        "data = pd.read_csv('/content/data_coba.csv',encoding='ISO-8859-1')\n",
        "\n",
        "# Menampilkan beberapa baris pertama data\n",
        "print(\"Menampilkan beberapa baris pertama data:\")\n",
        "print(data.head())\n",
        "\n",
        "# Menampilkan beberapa baris terakhir data\n",
        "print(\"\\nMenampilkan beberapa baris terakhir data:\")\n",
        "print(data.tail())\n",
        "\n",
        "# Menampilkan informasi umum tentang dataset\n",
        "nama_saja = data['Nama']\n",
        "print (nama_saja)"
      ],
      "metadata": {
        "colab": {
          "base_uri": "https://localhost:8080/"
        },
        "id": "hMgryfCCxaBk",
        "outputId": "094b1694-a6ad-411b-b617-dd6c4e14ab32"
      },
      "execution_count": null,
      "outputs": [
        {
          "output_type": "stream",
          "name": "stdout",
          "text": [
            "Menampilkan beberapa baris pertama data:\n",
            "      Nama  Usia           Kota  Nilai\n",
            "0    Alice    25       New York     92\n",
            "1      Bob    30    Los Angeles     88\n",
            "2  Charlie    22        Chicago     75\n",
            "3    David    35        Houston     95\n",
            "4       Ev    28  San Francisco     89\n",
            "\n",
            "Menampilkan beberapa baris terakhir data:\n",
            "      Nama  Usia           Kota  Nilai\n",
            "0    Alice    25       New York     92\n",
            "1      Bob    30    Los Angeles     88\n",
            "2  Charlie    22        Chicago     75\n",
            "3    David    35        Houston     95\n",
            "4       Ev    28  San Francisco     89\n",
            "0      Alice\n",
            "1        Bob\n",
            "2    Charlie\n",
            "3      David\n",
            "4         Ev\n",
            "Name: Nama, dtype: object\n"
          ]
        }
      ]
    },
    {
      "cell_type": "code",
      "source": [
        "Nama;Usia;Kota;Nilai\n",
        "Alice;25;New York;92\n",
        "Bob;30;Los Angeles;88\n",
        "Charlie;22;Chicago;75\n",
        "David;35;Houston;95\n",
        "Eva;28;San Francisco;89"
      ],
      "metadata": {
        "id": "-YPQ-167rM8L"
      },
      "execution_count": null,
      "outputs": []
    },
    {
      "cell_type": "code",
      "source": [
        "import pandas as pd\n",
        "\n",
        "# Membaca dataset (ganti 'nama_dataset.csv' dengan nama file dataset yang sesuai)\n",
        "data = pd.read_csv('/content/20230924SA.csv',encoding='ISO-8859-1',sep=';' )\n",
        "# Menampilkan beberapa baris pertama data\n",
        "print(\"Menampilkan beberapa baris pertama data:\")\n",
        "print(data.head())\n",
        "\n",
        "# Menampilkan beberapa baris terakhir data\n",
        "print(\"\\nMenampilkan beberapa baris terakhir data:\")\n",
        "print(data.tail())\n",
        "\n",
        "# Menampilkan informasi umum tentang dataset\n",
        "nama_saja = data['Keterangan']\n",
        "print (nama_saja)\n"
      ],
      "metadata": {
        "colab": {
          "base_uri": "https://localhost:8080/"
        },
        "id": "XGpPFmNNvmfI",
        "outputId": "e5e1af2b-2ce9-4cb6-bb15-a7f21352ae3a"
      },
      "execution_count": null,
      "outputs": [
        {
          "output_type": "stream",
          "name": "stdout",
          "text": [
            "Menampilkan beberapa baris pertama data:\n",
            "                                          Keterangan  Sentimen Classification  \\\n",
            "0  Alhamdulillah.. klo ane selama isi @pertamaxse...                        1   \n",
            "1                               Makasih min inpohnya                        1   \n",
            "2  semogaa dah impian gw nonton moto GP bisa terw...                        1   \n",
            "3  nahh kalo gini kan jadi semangat ngumpulin poi...                        1   \n",
            "4  Kalo gratis gini gue bakal semangat kumpulin p...                        1   \n",
            "\n",
            "  Sentimen  \n",
            "0  Positif  \n",
            "1  Positif  \n",
            "2  Positif  \n",
            "3  Positif  \n",
            "4  Positif  \n",
            "\n",
            "Menampilkan beberapa baris terakhir data:\n",
            "                                            Keterangan  \\\n",
            "473  @pertamaxseries.id aerox old rasio kompresinya...   \n",
            "474          @pertamaxseries.id nyari susah di jakarta   \n",
            "475               Wilayah jakarta di mana aja yang ada   \n",
            "476            Bandung kapan nih ka @pertamaxseries.id   \n",
            "477  pertamax green 95 udah keluar, tapi di pom ben...   \n",
            "\n",
            "     Sentimen Classification Sentimen  \n",
            "473                        1  Positif  \n",
            "474                        1  Positif  \n",
            "475                        1  Positif  \n",
            "476                        1  Positif  \n",
            "477                        1  Positif  \n",
            "0      Alhamdulillah.. klo ane selama isi @pertamaxse...\n",
            "1                                   Makasih min inpohnya\n",
            "2      semogaa dah impian gw nonton moto GP bisa terw...\n",
            "3      nahh kalo gini kan jadi semangat ngumpulin poi...\n",
            "4      Kalo gratis gini gue bakal semangat kumpulin p...\n",
            "                             ...                        \n",
            "473    @pertamaxseries.id aerox old rasio kompresinya...\n",
            "474            @pertamaxseries.id nyari susah di jakarta\n",
            "475                 Wilayah jakarta di mana aja yang ada\n",
            "476              Bandung kapan nih ka @pertamaxseries.id\n",
            "477    pertamax green 95 udah keluar, tapi di pom ben...\n",
            "Name: Keterangan, Length: 478, dtype: object\n"
          ]
        }
      ]
    }
  ]
}